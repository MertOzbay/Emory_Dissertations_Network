{
 "cells": [
  {
   "cell_type": "code",
   "execution_count": 2,
   "id": "32bf7cf8",
   "metadata": {},
   "outputs": [],
   "source": [
    "import pickle"
   ]
  },
  {
   "cell_type": "code",
   "execution_count": 4,
   "id": "e285969a",
   "metadata": {},
   "outputs": [],
   "source": [
    "file = open('dep_centrality_pickle', 'rb')\n",
    "dep_centrality = pickle.load(file)\n",
    "file.close()"
   ]
  },
  {
   "cell_type": "code",
   "execution_count": 5,
   "id": "6f5c86ff",
   "metadata": {},
   "outputs": [
    {
     "data": {
      "text/plain": [
       "{'Neuroscience and Behavioral Biology': 0.02716904813583802,\n",
       " 'Biology': 0.028029738972057405,\n",
       " 'Psychology': 0.034015032398097556,\n",
       " 'Math and Computer Science': 0.0021731460813410874,\n",
       " 'Chemistry': 0.013239481559296397,\n",
       " 'Epidemiology': 0.004029611666101141,\n",
       " 'Behavioral Sciences and Health Education': 0.002177975530600035,\n",
       " 'Global Health': 0.0025371925631008842,\n",
       " 'Biological and Biomedical Sciences': 0.011925580790169085,\n",
       " 'Ministry': 0.0002752680776370499,\n",
       " 'Divinity': 0.0015913350862621245,\n",
       " 'Religion': 0.034226326205362693,\n",
       " 'Biostatistics and Bioinformatics': 0.0013272699609540833,\n",
       " 'Public Health': 0.004266191293325733,\n",
       " 'Clinical Research': 0.0005893252271394175,\n",
       " 'Environmental Health': 0.0029623169347543035,\n",
       " 'Nursing': 0.003087934458794526,\n",
       " 'African Studies': 0.0011762663148695202,\n",
       " \"Women's, Gender, and Sexuality Studies\": 0.02120367955833643,\n",
       " 'Music': 0.009797413344125164,\n",
       " 'Human Health': 0.0033355763972440864,\n",
       " 'Sociology': 0.0241272392188996,\n",
       " 'Theological Studies': 0.006641723918774351,\n",
       " 'Health Policy and Management': 0.0009294975980674284,\n",
       " 'Anthropology': 0.02505528271612096,\n",
       " 'Business': 0.0013441102567799716,\n",
       " 'Environmental Studies': 0.004374513602211364,\n",
       " 'French': 0.0037048089145079273,\n",
       " 'Comparative Literature': 0.0042658963154072966,\n",
       " 'Graduate Institute of the Liberal Arts': 0.016602487471360405,\n",
       " 'Philosophy': 0.01989594255447184,\n",
       " 'English and Creative Writing': 0.028923846946581202,\n",
       " 'History': 0.027485019430924202,\n",
       " 'Spanish and Portuguese': 0.00947780364230781,\n",
       " 'German': 0.0025547764017961913,\n",
       " 'Physics': 0.008578631252087032,\n",
       " 'Biomedical Engineering': 0.0,\n",
       " 'Mathematics': 0.008998256529344922,\n",
       " 'Quantitative Science': 0.0040061659916697506,\n",
       " 'Linguistics': 0.006167761142507468,\n",
       " 'Political Science': 0.01654291701063889,\n",
       " 'International Studies': 0.013459842669473726,\n",
       " 'Economics': 0.017699377791484488,\n",
       " 'Interdisciplinary Studies in Society and Culture': 0.020781846289996662,\n",
       " 'Art History': 0.01873478978261236,\n",
       " 'American Studies': 0.007003999912301174,\n",
       " 'Integrated Visual Arts': 0.0,\n",
       " 'Computer Science': 0.0045104931854376105,\n",
       " 'Economics and Mathematics': 0.005006467926155781,\n",
       " 'Bioethics': 0.009404739090092049,\n",
       " 'Middle Eastern and South Asian Studies': 0.006772167961588598,\n",
       " 'Islamic Civilizations Studies': 0.0003976101664675285,\n",
       " 'Psychology and Linguistics': 0.005417218209618127,\n",
       " 'Film and Media Studies': 0.005498104225270903,\n",
       " 'Religion and Anthropology': 0.0014274747055119102,\n",
       " 'Mathematics and Political Science': 0.00039673252377281273,\n",
       " 'Spanish and Linguistics': 0.0,\n",
       " 'Dance and Movement Studies': 0.0029831278103929154,\n",
       " 'Educational Studies': 0.0020026995758750023,\n",
       " 'African American Studies': 0.001031516006582495,\n",
       " 'Theater Studies': 0.003903733722531652,\n",
       " 'East Asian Studies': 0.0011962233449214215,\n",
       " 'Latin American and Caribbean Studies': 0.0002813011474961489,\n",
       " 'Asian and Asian American Studies': 0.0005497951999409397,\n",
       " 'Japanese': 0.0005656359415664319,\n",
       " 'Journalism': 0.0006470487360055321,\n",
       " 'Religion and History': 0.0010976728813254144,\n",
       " 'Italian Studies': 0.0004513746864677907,\n",
       " 'Classics': 0.00486627334586195,\n",
       " 'Ancient Mediterranean Studies': 0.001430501322574092,\n",
       " 'Religion and Classical Civilization': 0.00023388482171272614,\n",
       " 'Jewish Studies': 0.0004898864225874162,\n",
       " 'English and History': 0.0015787465101677986,\n",
       " 'Linguistics and Psychology': 0.0005406741326823413,\n",
       " 'Art History and Visual Arts': 0.00047875837341482686,\n",
       " 'Art History and History': 1.3687005556924256e-05,\n",
       " 'Chinese Language and Literature': 0.0007631675829426201,\n",
       " 'Playwriting': 0.0005190977791122025,\n",
       " 'Pastoral Counseling': 3.7639265281541705e-05,\n",
       " 'Philosophy and Religion': 2.24278104850014e-05,\n",
       " 'Chinese Studies': 0.0006986768125567983,\n",
       " 'Prevention Science': 1.1152374898234579e-05,\n",
       " 'Russian and East European Studies': 0.0003988737568445546}"
      ]
     },
     "execution_count": 5,
     "metadata": {},
     "output_type": "execute_result"
    }
   ],
   "source": [
    "# sorted(dep_centrality.items(), key=lambda x: x[1], reverse=True)\n",
    "dep_centrality"
   ]
  },
  {
   "cell_type": "code",
   "execution_count": null,
   "id": "d82d32a2",
   "metadata": {},
   "outputs": [],
   "source": []
  }
 ],
 "metadata": {
  "kernelspec": {
   "display_name": "Python 3 (ipykernel)",
   "language": "python",
   "name": "python3"
  },
  "language_info": {
   "codemirror_mode": {
    "name": "ipython",
    "version": 3
   },
   "file_extension": ".py",
   "mimetype": "text/x-python",
   "name": "python",
   "nbconvert_exporter": "python",
   "pygments_lexer": "ipython3",
   "version": "3.7.11"
  }
 },
 "nbformat": 4,
 "nbformat_minor": 5
}
